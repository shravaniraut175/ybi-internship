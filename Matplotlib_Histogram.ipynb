{
  "nbformat": 4,
  "nbformat_minor": 0,
  "metadata": {
    "colab": {
      "provenance": []
    },
    "kernelspec": {
      "name": "python3",
      "display_name": "Python 3"
    },
    "language_info": {
      "name": "python"
    }
  },
  "cells": [
    {
      "cell_type": "markdown",
      "source": [
        "# Histogram"
      ],
      "metadata": {
        "id": "yH-40pKNNL8x"
      }
    },
    {
      "cell_type": "markdown",
      "source": [
        "**✅ What is a Histogram?**\n",
        "\n",
        "A Histogram shows the distribution of a numerical variable by splitting the data into bins (intervals) and counting how many data points fall into each bin.\n",
        "\n",
        "It helps in understanding:\n",
        "\n",
        "- Frequency distribution\n",
        "\n",
        "- Skewness\n",
        "\n",
        "- Outliers\n",
        "\n",
        "- Spread and shape of the data"
      ],
      "metadata": {
        "id": "NY80lINc9wE3"
      }
    },
    {
      "cell_type": "markdown",
      "source": [
        "**Example: Distribution of Student Marks**\n",
        "\n",
        "🎯 Objective:\n",
        "\n",
        "Visualize the distribution of students’ marks using a histogram."
      ],
      "metadata": {
        "id": "9PI-RpuD93nP"
      }
    },
    {
      "cell_type": "code",
      "source": [
        "import matplotlib.pyplot as plt"
      ],
      "metadata": {
        "id": "cAskGh9GDDq_"
      },
      "execution_count": null,
      "outputs": []
    },
    {
      "cell_type": "code",
      "source": [
        "# Sample data: marks of 30 students\n",
        "marks = [45, 56, 67, 49, 78, 82, 91, 55, 62, 74,\n",
        "         68, 85, 89, 73, 50, 66, 77, 88, 93, 59,\n",
        "         61, 70, 72, 64, 79, 81, 60, 69, 90, 76]"
      ],
      "metadata": {
        "id": "SYfc5RI699sJ"
      },
      "execution_count": null,
      "outputs": []
    },
    {
      "cell_type": "code",
      "source": [
        "# Create the histogram\n",
        "plt.hist(marks, bins=8, color='skyblue', edgecolor='black')\n",
        "\n",
        "# Add title and labels\n",
        "plt.title('Distribution of Student Marks')\n",
        "plt.xlabel('Marks Range')\n",
        "plt.ylabel('Number of Students')\n",
        "\n",
        "# Show grid and plot\n",
        "plt.grid(axis='y')\n",
        "plt.show()"
      ],
      "metadata": {
        "id": "8e1vAmqIDDyF",
        "colab": {
          "base_uri": "https://localhost:8080/",
          "height": 472
        },
        "outputId": "a3a41dd4-e92a-4200-fc54-b93a0f6b498c"
      },
      "execution_count": null,
      "outputs": [
        {
          "output_type": "display_data",
          "data": {
            "text/plain": [
              "<Figure size 640x480 with 1 Axes>"
            ],
            "image/png": "[encoded data removed]"
          },
          "metadata": {}
        }
      ]
    },
    {
      "cell_type": "markdown",
      "source": [
        "**Explanation of the Code**\n",
        "- 1️⃣ marks: List of student marks (numerical data).\n",
        "- 2️⃣ plt.hist(...):\n",
        "\n",
        "    - marks: The data to be plotted.\n",
        "\n",
        "    - bins=8: Splits the data into 8 intervals (e.g., 40–50, 50–60...).\n",
        "\n",
        "    - color='skyblue': Fills the bars with color.\n",
        "\n",
        "    - edgecolor='black': Adds a border to each bar for clarity.\n",
        "\n",
        "- 3️⃣ plt.title(), plt.xlabel(), plt.ylabel(): Adds a title and axis labels.\n",
        "- 4️⃣ plt.grid(axis='y'): Adds horizontal grid lines for readability.\n",
        "- 5️⃣ plt.show(): Displays the histogram."
      ],
      "metadata": {
        "id": "g3huQhYB-DNp"
      }
    },
    {
      "cell_type": "markdown",
      "source": [
        "**📊 Output Description**\n",
        "\n",
        "Each bar in the histogram shows how many students fall within a certain range of marks (e.g., 50–60, 60–70, etc.).\n",
        "\n",
        "You can easily see which score ranges are most common."
      ],
      "metadata": {
        "id": "NK7qCh2w-NmE"
      }
    },
    {
      "cell_type": "markdown",
      "source": [
        "# **🐌Exercise**"
      ],
      "metadata": {
        "id": "urR0OpduRBEZ"
      }
    },
    {
      "cell_type": "markdown",
      "source": [
        "**Example: Age Distribution Histogram**\n",
        "\n",
        "🎯 Objective:\n",
        "\n",
        "Visualize how people are distributed across different age groups."
      ],
      "metadata": {
        "id": "FMLEOR_S-Way"
      }
    },
    {
      "cell_type": "code",
      "source": [
        "import matplotlib.pyplot as plt"
      ],
      "metadata": {
        "id": "ge6t4zLrRHRc"
      },
      "execution_count": null,
      "outputs": []
    },
    {
      "cell_type": "code",
      "source": [
        "# Sample data: ages of 25 people\n",
        "ages = [18, 21, 22, 25, 27, 29, 30, 32, 34, 36,\n",
        "        37, 39, 40, 41, 43, 45, 47, 48, 50, 52,\n",
        "        54, 55, 57, 59, 60]"
      ],
      "metadata": {
        "id": "Nszy4nb7-e0K"
      },
      "execution_count": null,
      "outputs": []
    },
    {
      "cell_type": "code",
      "source": [
        "# Create the histogram\n",
        "plt.hist(ages, bins=7, color='orange', edgecolor='black')\n",
        "\n",
        "# Add title and labels\n",
        "plt.title('Age Distribution of People')\n",
        "plt.xlabel('Age Group')\n",
        "plt.ylabel('Number of People')\n",
        "\n",
        "# Show grid and plot\n",
        "plt.grid(axis='y')\n",
        "plt.show()"
      ],
      "metadata": {
        "id": "4foLKuZVRHU_",
        "colab": {
          "base_uri": "https://localhost:8080/",
          "height": 472
        },
        "outputId": "e1410323-3ac0-4aae-dc09-df47f15c93a8"
      },
      "execution_count": null,
      "outputs": [
        {
          "output_type": "display_data",
          "data": {
            "text/plain": [
              "<Figure size 640x480 with 1 Axes>"
            ],
            "image/png": "[encoded data removed]"
          },
          "metadata": {}
        }
      ]
    },
    {
      "cell_type": "markdown",
      "source": [
        "**Explanation**\n",
        "- 1️⃣ ages: List of ages of 25 people.\n",
        "- 2️⃣ plt.hist(...): Plots a histogram:\n",
        "\n",
        "    - bins=7: Divides age range into 7 equal intervals.\n",
        "\n",
        "    - color='orange': Fills the bars with orange.\n",
        "\n",
        "    - edgecolor='black': Makes each bar visually distinct.\n",
        "\n",
        "- 3️⃣ Labels and grid improve readability."
      ],
      "metadata": {
        "id": "9FEXf3cj-khb"
      }
    },
    {
      "cell_type": "markdown",
      "source": [
        "**📊 Output**\n",
        "\n",
        "You’ll see a histogram that shows how many people fall into different age ranges (like 18–25, 25–32, etc.)."
      ],
      "metadata": {
        "id": "vdmk_OKL-sAw"
      }
    },
    {
      "cell_type": "markdown",
      "source": [
        "---"
      ],
      "metadata": {
        "id": "wtFxOdTW8OCk"
      }
    }
  ]
}