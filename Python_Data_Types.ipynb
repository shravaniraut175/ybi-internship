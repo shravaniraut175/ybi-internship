{
  "nbformat": 4,
  "nbformat_minor": 0,
  "metadata": {
    "colab": {
      "provenance": []
    },
    "kernelspec": {
      "name": "python3",
      "display_name": "Python 3"
    },
    "language_info": {
      "name": "python"
    }
  },
  "cells": [
    {
      "cell_type": "markdown",
      "source": [
        "# Python Data Types"
      ],
      "metadata": {
        "id": "JJB3fnjOLQNg"
      }
    },
    {
      "cell_type": "markdown",
      "source": [
        "## **1. Numeric Types:**\n",
        "\n",
        "- Integers (int): Whole numbers, positive or negative, without decimals.\n",
        "- Floating-point numbers (float): Numbers with a decimal point.\n",
        "- Complex numbers (complex):  Numbers with a real and imaginary part (e.g., 3 + 5j)."
      ],
      "metadata": {
        "id": "NhsgioUuTg_p"
      }
    },
    {
      "cell_type": "code",
      "source": [
        "# Integer\n",
        "age = 25\n",
        "runs = 150\n",
        "type(age), type(runs)"
      ],
      "metadata": {
        "colab": {
          "base_uri": "https://localhost:8080/"
        },
        "id": "Okcc8tCZTjtJ",
        "outputId": "27b6a9ec-b116-4f31-d7f3-a87b780796b0"
      },
      "execution_count": null,
      "outputs": [
        {
          "output_type": "execute_result",
          "data": {
            "text/plain": [
              "(int, int)"
            ]
          },
          "metadata": {},
          "execution_count": 10
        }
      ]
    },
    {
      "cell_type": "code",
      "source": [
        "# Float\n",
        "price = 99.99\n",
        "temperature = 36.5\n",
        "type(price), type(temperature)"
      ],
      "metadata": {
        "colab": {
          "base_uri": "https://localhost:8080/"
        },
        "id": "3vV6cxJdT1UN",
        "outputId": "bdef310c-417d-4e71-9a8f-16ea7415b835"
      },
      "execution_count": null,
      "outputs": [
        {
          "output_type": "execute_result",
          "data": {
            "text/plain": [
              "(float, float)"
            ]
          },
          "metadata": {},
          "execution_count": 11
        }
      ]
    },
    {
      "cell_type": "code",
      "source": [
        "# Comple number\n",
        "z = 2 + 3j\n",
        "type(z)"
      ],
      "metadata": {
        "colab": {
          "base_uri": "https://localhost:8080/"
        },
        "id": "GpBuSuwcT_vK",
        "outputId": "e615a0ab-7eda-4bd1-cde4-bfde0f81d80a"
      },
      "execution_count": null,
      "outputs": [
        {
          "output_type": "execute_result",
          "data": {
            "text/plain": [
              "complex"
            ]
          },
          "metadata": {},
          "execution_count": 12
        }
      ]
    },
    {
      "cell_type": "markdown",
      "source": [
        "## **2. Text Type:**\n",
        "- Strings (str): Sequences of characters enclosed in single, double, or triple quotes."
      ],
      "metadata": {
        "id": "2eSM9CBRUFbA"
      }
    },
    {
      "cell_type": "code",
      "source": [
        "# String\n",
        "name = \"Aisha Khan\"\n",
        "city = 'Varanasi'\n",
        "type(name), type(city)"
      ],
      "metadata": {
        "colab": {
          "base_uri": "https://localhost:8080/"
        },
        "id": "DqB1mVzLUGoR",
        "outputId": "94d0bba4-6813-49ad-9a52-1aeb6b6d16cd"
      },
      "execution_count": null,
      "outputs": [
        {
          "output_type": "execute_result",
          "data": {
            "text/plain": [
              "(str, str)"
            ]
          },
          "metadata": {},
          "execution_count": 15
        }
      ]
    },
    {
      "cell_type": "code",
      "source": [
        "# Multiline string\n",
        "quote = \"\"\"This is a\n",
        "multiline string.\"\"\"\n",
        "quote"
      ],
      "metadata": {
        "colab": {
          "base_uri": "https://localhost:8080/",
          "height": 35
        },
        "id": "Qasw5ITaUOL3",
        "outputId": "f75edd2a-80f0-42c7-ab66-906bf6131481"
      },
      "execution_count": null,
      "outputs": [
        {
          "output_type": "execute_result",
          "data": {
            "text/plain": [
              "'This is a \\nmultiline string.'"
            ],
            "application/vnd.google.colaboratory.intrinsic+json": {
              "type": "string"
            }
          },
          "metadata": {},
          "execution_count": 18
        }
      ]
    },
    {
      "cell_type": "markdown",
      "source": [
        "## **3. Sequence Types:**\n",
        "- Lists (list): Ordered, mutable collections of items (can be of different data types).\n",
        "- Tuples (tuple): Ordered, immutable collections of items."
      ],
      "metadata": {
        "id": "eg-uy6FwUeL0"
      }
    },
    {
      "cell_type": "code",
      "source": [
        "# List\n",
        "colors = [\"red\", \"green\", \"blue\"]\n",
        "expenses = [500, 1200, 350.75]\n",
        "type(colors), type(expenses)"
      ],
      "metadata": {
        "colab": {
          "base_uri": "https://localhost:8080/"
        },
        "id": "p2KlEq2ZUm84",
        "outputId": "f81c2534-24fb-4008-bded-57ca2ae2d9c6"
      },
      "execution_count": null,
      "outputs": [
        {
          "output_type": "execute_result",
          "data": {
            "text/plain": [
              "(list, list)"
            ]
          },
          "metadata": {},
          "execution_count": 19
        }
      ]
    },
    {
      "cell_type": "code",
      "source": [
        "# Tuple\n",
        "coordinates = (10, 20)\n",
        "days_of_week = (\"Monday\", \"Tuesday\", \"Wednesday\")\n",
        "type(coordinates), type(days_of_week)"
      ],
      "metadata": {
        "colab": {
          "base_uri": "https://localhost:8080/"
        },
        "id": "PrRuzhWwUtet",
        "outputId": "5870baa6-f951-4a0f-a3e7-198941e3c900"
      },
      "execution_count": null,
      "outputs": [
        {
          "output_type": "execute_result",
          "data": {
            "text/plain": [
              "(tuple, tuple)"
            ]
          },
          "metadata": {},
          "execution_count": 21
        }
      ]
    },
    {
      "cell_type": "markdown",
      "source": [
        "## **4. Mapping Type:**\n",
        "\n",
        "- Dictionaries (dict): Unordered collections of key-value pairs.\n",
        "Python"
      ],
      "metadata": {
        "id": "rzzaDQPLU3IF"
      }
    },
    {
      "cell_type": "code",
      "source": [
        "# Dictionary\n",
        "student = {\"name\": \"Riya\", \"age\": 18, \"city\": \"Delhi\"}\n",
        "type(student)"
      ],
      "metadata": {
        "colab": {
          "base_uri": "https://localhost:8080/"
        },
        "id": "pJoSY4lAU2iV",
        "outputId": "eb7ffb9d-06f7-4fce-83e7-3ea70b4cb864"
      },
      "execution_count": null,
      "outputs": [
        {
          "output_type": "execute_result",
          "data": {
            "text/plain": [
              "dict"
            ]
          },
          "metadata": {},
          "execution_count": 22
        }
      ]
    },
    {
      "cell_type": "markdown",
      "source": [
        "## **5. Set Types:**\n",
        "\n",
        "- Sets (set): Unordered collections of unique items.\n",
        "- Frozen sets (frozenset): Immutable sets."
      ],
      "metadata": {
        "id": "cwEfiUM2VC-n"
      }
    },
    {
      "cell_type": "code",
      "source": [
        "# Set\n",
        "unique_numbers = {1, 2, 3, 4, 4, 5}\n",
        "unique_numbers"
      ],
      "metadata": {
        "colab": {
          "base_uri": "https://localhost:8080/"
        },
        "id": "6U32djeQVIwk",
        "outputId": "a14b6ad7-8162-4b1b-8219-9fbcbc96c704"
      },
      "execution_count": null,
      "outputs": [
        {
          "output_type": "stream",
          "name": "stdout",
          "text": [
            "{1, 2, 3, 4, 5}\n"
          ]
        }
      ]
    },
    {
      "cell_type": "code",
      "source": [
        "# Frozenset\n",
        "numbers = frozenset((1,2,3))\n",
        "numbers"
      ],
      "metadata": {
        "colab": {
          "base_uri": "https://localhost:8080/"
        },
        "id": "GbVJ3fGyVaNh",
        "outputId": "ada153aa-efa3-43e9-f915-5000fd084f9b"
      },
      "execution_count": null,
      "outputs": [
        {
          "output_type": "execute_result",
          "data": {
            "text/plain": [
              "frozenset({1, 2, 3})"
            ]
          },
          "metadata": {},
          "execution_count": 30
        }
      ]
    },
    {
      "cell_type": "markdown",
      "source": [
        "## **6. Boolean Type:**\n",
        "- Booleans (bool): Represents truth values (True or False)."
      ],
      "metadata": {
        "id": "Ql4VPb_hVnrP"
      }
    },
    {
      "cell_type": "code",
      "source": [
        "# Boolean\n",
        "is_raining = True\n",
        "is_adult = False\n",
        "is_raining, is_adult"
      ],
      "metadata": {
        "colab": {
          "base_uri": "https://localhost:8080/"
        },
        "id": "HApXek4uVsws",
        "outputId": "b55ccb24-b6ce-43d2-862c-91818bd458b3"
      },
      "execution_count": null,
      "outputs": [
        {
          "output_type": "execute_result",
          "data": {
            "text/plain": [
              "(True, False)"
            ]
          },
          "metadata": {},
          "execution_count": 31
        }
      ]
    },
    {
      "cell_type": "markdown",
      "source": [
        "## **7. Binary Types:**\n",
        "\n",
        "- Bytes (bytes), Byte Arrays (bytearray), Memory Views (memoryview): Used to handle binary data."
      ],
      "metadata": {
        "id": "7mI0ThS2VznR"
      }
    },
    {
      "cell_type": "code",
      "source": [
        "# Bytes\n",
        "byte_data = b\"Hello\"\n",
        "print(byte_data)"
      ],
      "metadata": {
        "colab": {
          "base_uri": "https://localhost:8080/"
        },
        "id": "J18m31PNYB4S",
        "outputId": "c02c1808-66b4-486e-8e51-6c5f80b438d7"
      },
      "execution_count": null,
      "outputs": [
        {
          "output_type": "stream",
          "name": "stdout",
          "text": [
            "b'Hello'\n"
          ]
        }
      ]
    },
    {
      "cell_type": "markdown",
      "source": [
        "## **8. None Type:**\n",
        "- None: Represents the absence of a value."
      ],
      "metadata": {
        "id": "o5y0YabxX6fL"
      }
    },
    {
      "cell_type": "code",
      "source": [
        "type(None)"
      ],
      "metadata": {
        "colab": {
          "base_uri": "https://localhost:8080/"
        },
        "id": "TJKxPwhATZLs",
        "outputId": "86031d5b-0a85-4067-b59b-d5be3d366d3b"
      },
      "execution_count": null,
      "outputs": [
        {
          "output_type": "execute_result",
          "data": {
            "text/plain": [
              "NoneType"
            ]
          },
          "metadata": {},
          "execution_count": 32
        }
      ]
    },
    {
      "cell_type": "markdown",
      "source": [
        "# **🦉Practice Problem**"
      ],
      "metadata": {
        "id": "bosZhjFlWTPg"
      }
    },
    {
      "cell_type": "markdown",
      "source": [
        "## **Practice Problem 1: Create Numerical Data**"
      ],
      "metadata": {
        "id": "5bvX7r52bjjG"
      }
    },
    {
      "cell_type": "code",
      "source": [
        "integer_number = 2529\n",
        "float_number = 25.29\n",
        "complex_number = 25 + 29j"
      ],
      "metadata": {
        "id": "cAskGh9GDDq_"
      },
      "execution_count": null,
      "outputs": []
    },
    {
      "cell_type": "markdown",
      "source": [
        "## **Practice Problem 2: Create Text Data**"
      ],
      "metadata": {
        "id": "MvOKPp1ub25I"
      }
    },
    {
      "cell_type": "code",
      "source": [
        "text = 'Ybi Foundation'"
      ],
      "metadata": {
        "id": "8e1vAmqIDDyF"
      },
      "execution_count": null,
      "outputs": []
    },
    {
      "cell_type": "markdown",
      "source": [
        "## **Practice Problem 3: Create Sequence Type**"
      ],
      "metadata": {
        "id": "fuB08qjbcLgG"
      }
    },
    {
      "cell_type": "code",
      "source": [
        "my_list = [1,2,3,4]\n",
        "my_tuple = (1,2,3,4)"
      ],
      "metadata": {
        "id": "XAkYF1yBDyfP"
      },
      "execution_count": null,
      "outputs": []
    },
    {
      "cell_type": "code",
      "source": [],
      "metadata": {
        "id": "JIgXNKmH6W38"
      },
      "execution_count": null,
      "outputs": []
    },
    {
      "cell_type": "markdown",
      "source": [
        "## **Practice Problem 4: Numerical Data Types**"
      ],
      "metadata": {
        "id": "N6IpJaSpWs2Q"
      }
    },
    {
      "cell_type": "markdown",
      "source": [
        "**4a. Integer**"
      ],
      "metadata": {
        "id": "kUCNh8dtYL6E"
      }
    },
    {
      "cell_type": "code",
      "source": [
        "# Create integer\n",
        "x = 10000\n",
        "x"
      ],
      "metadata": {
        "id": "rRkiJbxvuNeI",
        "colab": {
          "base_uri": "https://localhost:8080/"
        },
        "outputId": "e6f0b5fd-a9c5-4605-ce8a-d41e95c85000"
      },
      "execution_count": null,
      "outputs": [
        {
          "output_type": "execute_result",
          "data": {
            "text/plain": [
              "10000"
            ]
          },
          "metadata": {},
          "execution_count": 2
        }
      ]
    },
    {
      "cell_type": "code",
      "source": [
        "# Create big integer\n",
        "x= 100_000_000\n",
        "x"
      ],
      "metadata": {
        "id": "EA1nT6pvuPWZ",
        "colab": {
          "base_uri": "https://localhost:8080/"
        },
        "outputId": "ebcb4def-ac82-4099-8929-87306f62addf"
      },
      "execution_count": null,
      "outputs": [
        {
          "output_type": "execute_result",
          "data": {
            "text/plain": [
              "100000000"
            ]
          },
          "metadata": {},
          "execution_count": 3
        }
      ]
    },
    {
      "cell_type": "code",
      "source": [
        "x = 10 # 1010 in binary\n",
        "x &= 7\n",
        "x"
      ],
      "metadata": {
        "colab": {
          "base_uri": "https://localhost:8080/"
        },
        "id": "L1RFBQbCuPaA",
        "outputId": "4bf8984f-b09e-447b-e654-c5ec1bd158b1"
      },
      "execution_count": null,
      "outputs": [
        {
          "output_type": "execute_result",
          "data": {
            "text/plain": [
              "2"
            ]
          },
          "metadata": {},
          "execution_count": 25
        }
      ]
    },
    {
      "cell_type": "code",
      "execution_count": null,
      "metadata": {
        "colab": {
          "base_uri": "https://localhost:8080/"
        },
        "id": "drXjCmk0R6ue",
        "outputId": "1f648fcc-9162-42d4-9c0e-fd57d1f5ea81"
      },
      "outputs": [
        {
          "output_type": "execute_result",
          "data": {
            "text/plain": [
              "(2, -10)"
            ]
          },
          "metadata": {},
          "execution_count": 4
        }
      ],
      "source": [
        "# Create multiple integer\n",
        "x, y = 2, -10\n",
        "x, y"
      ]
    },
    {
      "cell_type": "code",
      "source": [
        "# Check type of x\n",
        "type(x)"
      ],
      "metadata": {
        "colab": {
          "base_uri": "https://localhost:8080/"
        },
        "id": "KpkM9uwzWvgF",
        "outputId": "4d984815-5082-4c7b-9b42-47dda51681bc"
      },
      "execution_count": null,
      "outputs": [
        {
          "output_type": "execute_result",
          "data": {
            "text/plain": [
              "int"
            ]
          },
          "metadata": {},
          "execution_count": 5
        }
      ]
    },
    {
      "cell_type": "markdown",
      "source": [
        "**4b. Float**"
      ],
      "metadata": {
        "id": "afpDpwuba1rE"
      }
    },
    {
      "cell_type": "code",
      "execution_count": null,
      "metadata": {
        "colab": {
          "base_uri": "https://localhost:8080/"
        },
        "outputId": "5a02cc7b-e5fc-4cd1-fdb7-12e7797549a5",
        "id": "o7udm71Na1rE"
      },
      "outputs": [
        {
          "output_type": "execute_result",
          "data": {
            "text/plain": [
              "(2.3, -10.2, 252900.0)"
            ]
          },
          "metadata": {},
          "execution_count": 8
        }
      ],
      "source": [
        "# Create float\n",
        "x = 2.3\n",
        "y = -10.2\n",
        "z = 2529e2\n",
        "x, y, z"
      ]
    },
    {
      "cell_type": "code",
      "source": [
        "# Check type of x, y and z\n",
        "type(x), type(y), type(z)"
      ],
      "metadata": {
        "colab": {
          "base_uri": "https://localhost:8080/"
        },
        "outputId": "4fa0fe49-b00a-47a2-dad9-19aa929b29a7",
        "id": "ePq3mrkQa1rF"
      },
      "execution_count": null,
      "outputs": [
        {
          "output_type": "execute_result",
          "data": {
            "text/plain": [
              "(float, float, float)"
            ]
          },
          "metadata": {},
          "execution_count": 29
        }
      ]
    },
    {
      "cell_type": "markdown",
      "source": [
        "**4c. Complex Number**"
      ],
      "metadata": {
        "id": "QfvLsvcjYQPn"
      }
    },
    {
      "cell_type": "code",
      "source": [
        "# Create complex number\n",
        "x = 2 + 3j\n",
        "y = -10 - 2j\n",
        "x, y"
      ],
      "metadata": {
        "colab": {
          "base_uri": "https://localhost:8080/"
        },
        "id": "qFvca9yXYHpW",
        "outputId": "775b988f-d0a8-4144-c33d-d79c26deef15"
      },
      "execution_count": null,
      "outputs": [
        {
          "output_type": "execute_result",
          "data": {
            "text/plain": [
              "((2+3j), (-10-2j))"
            ]
          },
          "metadata": {},
          "execution_count": 12
        }
      ]
    },
    {
      "cell_type": "code",
      "source": [
        "# Check type of x and y\n",
        "type(x), type(y)"
      ],
      "metadata": {
        "colab": {
          "base_uri": "https://localhost:8080/"
        },
        "id": "LGFz0uwfYTTy",
        "outputId": "6cfe4ed0-346f-4e35-b17d-65838fe40614"
      },
      "execution_count": null,
      "outputs": [
        {
          "output_type": "execute_result",
          "data": {
            "text/plain": [
              "(complex, complex)"
            ]
          },
          "metadata": {},
          "execution_count": 13
        }
      ]
    },
    {
      "cell_type": "code",
      "source": [
        "# Find imaginary and real part of complex number\n",
        "x.real, x.imag"
      ],
      "metadata": {
        "colab": {
          "base_uri": "https://localhost:8080/"
        },
        "id": "wSovd1P0YhqL",
        "outputId": "57c58648-4203-4d1a-9c44-102351639579"
      },
      "execution_count": null,
      "outputs": [
        {
          "output_type": "execute_result",
          "data": {
            "text/plain": [
              "(2.0, 3.0)"
            ]
          },
          "metadata": {},
          "execution_count": 15
        }
      ]
    },
    {
      "cell_type": "markdown",
      "source": [
        "## **Practice Problem 5: Boolean Data Types**"
      ],
      "metadata": {
        "id": "o4i9uqlgYtbl"
      }
    },
    {
      "cell_type": "markdown",
      "source": [
        "**5a. True**"
      ],
      "metadata": {
        "id": "V-CK7JM235f_"
      }
    },
    {
      "cell_type": "code",
      "source": [
        "# Boolean True\n",
        "True"
      ],
      "metadata": {
        "colab": {
          "base_uri": "https://localhost:8080/"
        },
        "id": "AlI_JzY5Yvg1",
        "outputId": "ed81221f-3884-41cc-ec11-d4337245ed47"
      },
      "execution_count": null,
      "outputs": [
        {
          "output_type": "execute_result",
          "data": {
            "text/plain": [
              "True"
            ]
          },
          "metadata": {},
          "execution_count": 10
        }
      ]
    },
    {
      "cell_type": "code",
      "source": [
        "# Check type\n",
        "type(True)"
      ],
      "metadata": {
        "colab": {
          "base_uri": "https://localhost:8080/"
        },
        "id": "b7xHt6_EYvly",
        "outputId": "820ba5a7-6044-4e5c-8ead-8d312a7440ab"
      },
      "execution_count": null,
      "outputs": [
        {
          "output_type": "execute_result",
          "data": {
            "text/plain": [
              "bool"
            ]
          },
          "metadata": {},
          "execution_count": 11
        }
      ]
    },
    {
      "cell_type": "code",
      "source": [
        "# Any value is TRUE\n",
        "bool('ybi foundation')"
      ],
      "metadata": {
        "colab": {
          "base_uri": "https://localhost:8080/"
        },
        "id": "XHLA2tV-Y3J1",
        "outputId": "c8a5c3ba-19e1-492c-ca8b-206dfca6ca50"
      },
      "execution_count": null,
      "outputs": [
        {
          "output_type": "execute_result",
          "data": {
            "text/plain": [
              "True"
            ]
          },
          "metadata": {},
          "execution_count": 13
        }
      ]
    },
    {
      "cell_type": "code",
      "source": [
        "# Any value is TRUE even a blank space\n",
        "bool(' ')"
      ],
      "metadata": {
        "colab": {
          "base_uri": "https://localhost:8080/"
        },
        "id": "H3SPcyJ5ZOhs",
        "outputId": "e392b1c1-165c-45f6-ccc3-5d2eaac6bc4a"
      },
      "execution_count": null,
      "outputs": [
        {
          "output_type": "execute_result",
          "data": {
            "text/plain": [
              "True"
            ]
          },
          "metadata": {},
          "execution_count": 14
        }
      ]
    },
    {
      "cell_type": "markdown",
      "source": [
        "**5b. False**"
      ],
      "metadata": {
        "id": "IHkuP7Cn4Bfp"
      }
    },
    {
      "cell_type": "code",
      "source": [
        "# Boolean False\n",
        "False"
      ],
      "metadata": {
        "colab": {
          "base_uri": "https://localhost:8080/"
        },
        "id": "LVhmhSTgYx7T",
        "outputId": "a1fad3b8-b766-4874-c9bb-7bbc112641d3"
      },
      "execution_count": null,
      "outputs": [
        {
          "output_type": "execute_result",
          "data": {
            "text/plain": [
              "False"
            ]
          },
          "metadata": {},
          "execution_count": 12
        }
      ]
    },
    {
      "cell_type": "code",
      "source": [
        "# Check type\n",
        "type(False)"
      ],
      "metadata": {
        "colab": {
          "base_uri": "https://localhost:8080/"
        },
        "id": "etLO0lu2Yx_H",
        "outputId": "0e070093-c5b8-4c38-ad3c-4d3311aa1091"
      },
      "execution_count": null,
      "outputs": [
        {
          "output_type": "execute_result",
          "data": {
            "text/plain": [
              "bool"
            ]
          },
          "metadata": {},
          "execution_count": 15
        }
      ]
    },
    {
      "cell_type": "code",
      "source": [
        "# 0 is FALSE\n",
        "bool(0)"
      ],
      "metadata": {
        "colab": {
          "base_uri": "https://localhost:8080/"
        },
        "id": "yrey0uXTYurz",
        "outputId": "72769605-54ee-4025-e4f5-e032d8c8db96"
      },
      "execution_count": null,
      "outputs": [
        {
          "output_type": "execute_result",
          "data": {
            "text/plain": [
              "False"
            ]
          },
          "metadata": {},
          "execution_count": 16
        }
      ]
    },
    {
      "cell_type": "code",
      "source": [
        "# No space is FALSE\n",
        "bool('')"
      ],
      "metadata": {
        "colab": {
          "base_uri": "https://localhost:8080/"
        },
        "id": "XgWMD2HBY6cg",
        "outputId": "690030d3-fd04-4b11-dd4c-ed9e113b49b9"
      },
      "execution_count": null,
      "outputs": [
        {
          "output_type": "execute_result",
          "data": {
            "text/plain": [
              "False"
            ]
          },
          "metadata": {},
          "execution_count": 17
        }
      ]
    },
    {
      "cell_type": "markdown",
      "source": [
        "## **Practice Problem 6: Sequence Data Types**"
      ],
      "metadata": {
        "id": "Xws-mxzx4Gge"
      }
    },
    {
      "cell_type": "markdown",
      "source": [
        "**6a. List**"
      ],
      "metadata": {
        "id": "xvxUPKbn4MnK"
      }
    },
    {
      "cell_type": "code",
      "source": [
        "# Create list\n",
        "my_list = [1,2,3, 'ybi foundation', True]\n",
        "my_list"
      ],
      "metadata": {
        "id": "r4IaHJah4P-N",
        "colab": {
          "base_uri": "https://localhost:8080/"
        },
        "outputId": "164f712b-1e22-41f0-f33d-5c6299341080"
      },
      "execution_count": null,
      "outputs": [
        {
          "output_type": "execute_result",
          "data": {
            "text/plain": [
              "[1, 2, 3, 'ybi foundation', True]"
            ]
          },
          "metadata": {},
          "execution_count": 1
        }
      ]
    },
    {
      "cell_type": "markdown",
      "source": [
        "**6b. Tuple**"
      ],
      "metadata": {
        "id": "WpFQyhhn4QGz"
      }
    },
    {
      "cell_type": "code",
      "source": [
        "# Create tuple\n",
        "my_tuple = (1,2,3, 'ybi foundation', True)\n",
        "my_tuple"
      ],
      "metadata": {
        "id": "zsHG7lYW4Sa5",
        "colab": {
          "base_uri": "https://localhost:8080/"
        },
        "outputId": "ff3fe9f4-0157-4230-91c0-d1fcb4ec4b6b"
      },
      "execution_count": null,
      "outputs": [
        {
          "output_type": "execute_result",
          "data": {
            "text/plain": [
              "(1, 2, 3, 'ybi foundation', True)"
            ]
          },
          "metadata": {},
          "execution_count": 2
        }
      ]
    },
    {
      "cell_type": "markdown",
      "source": [
        "**6c. Range**"
      ],
      "metadata": {
        "id": "AKNybBSp4Sll"
      }
    },
    {
      "cell_type": "code",
      "source": [
        "# data type range\n",
        "\n",
        "range(10)"
      ],
      "metadata": {
        "colab": {
          "base_uri": "https://localhost:8080/"
        },
        "id": "Vc_cDw6J7S-w",
        "outputId": "36863030-b89c-46eb-dd56-320e991a5412"
      },
      "execution_count": null,
      "outputs": [
        {
          "output_type": "execute_result",
          "data": {
            "text/plain": [
              "range(0, 10)"
            ]
          },
          "metadata": {},
          "execution_count": 20
        }
      ]
    },
    {
      "cell_type": "code",
      "source": [
        "type(range(10))"
      ],
      "metadata": {
        "colab": {
          "base_uri": "https://localhost:8080/"
        },
        "id": "oeNmrkp97Wjx",
        "outputId": "cef3453a-f073-460a-820b-30c64f328c07"
      },
      "execution_count": null,
      "outputs": [
        {
          "output_type": "execute_result",
          "data": {
            "text/plain": [
              "range"
            ]
          },
          "metadata": {},
          "execution_count": 21
        }
      ]
    },
    {
      "cell_type": "markdown",
      "source": [
        "## **Practice Problem 7: Create Set Data Types**"
      ],
      "metadata": {
        "id": "2dcR6nU74YnO"
      }
    },
    {
      "cell_type": "markdown",
      "source": [
        "**7a. Set**"
      ],
      "metadata": {
        "id": "O-A8oR3Y4c10"
      }
    },
    {
      "cell_type": "code",
      "source": [
        "# Create set\n",
        "my_set = {1,2,3, 'ybi foundation', True}\n",
        "my_set"
      ],
      "metadata": {
        "id": "IZE3iAX94fXh",
        "colab": {
          "base_uri": "https://localhost:8080/"
        },
        "outputId": "0a11d423-7c4a-4ff1-a467-591624853984"
      },
      "execution_count": null,
      "outputs": [
        {
          "output_type": "execute_result",
          "data": {
            "text/plain": [
              "{1, 2, 3, 'ybi foundation'}"
            ]
          },
          "metadata": {},
          "execution_count": 4
        }
      ]
    },
    {
      "cell_type": "markdown",
      "source": [
        "**7b. Frozenset**"
      ],
      "metadata": {
        "id": "pTaZItoD4fht"
      }
    },
    {
      "cell_type": "code",
      "source": [
        "# Create frozenset\n",
        "my_frozenset = frozenset([1,2,3, 'ybi foundation', True])\n",
        "my_frozenset"
      ],
      "metadata": {
        "id": "q9O9nplZ4hj-",
        "colab": {
          "base_uri": "https://localhost:8080/"
        },
        "outputId": "29449785-852c-42fe-ea23-ef580cf3d731"
      },
      "execution_count": null,
      "outputs": [
        {
          "output_type": "execute_result",
          "data": {
            "text/plain": [
              "frozenset({1, 2, 3, 'ybi foundation'})"
            ]
          },
          "metadata": {},
          "execution_count": 7
        }
      ]
    },
    {
      "cell_type": "markdown",
      "source": [
        "## **Practice Problem 8: Mapping Data Types**"
      ],
      "metadata": {
        "id": "lQaH1Z434kl4"
      }
    },
    {
      "cell_type": "markdown",
      "source": [
        "**8a. Dictionary**"
      ],
      "metadata": {
        "id": "8LD3GSaP4ooO"
      }
    },
    {
      "cell_type": "code",
      "source": [
        "# Create dictionary\n",
        "student = {\"name\": \"Ania\", \"age\": 11, \"course\": \"Python\"}\n",
        "student"
      ],
      "metadata": {
        "id": "RDcwr7c74qq4",
        "colab": {
          "base_uri": "https://localhost:8080/"
        },
        "outputId": "eedcbb7e-8383-4edd-ee97-7fc1f8508469"
      },
      "execution_count": null,
      "outputs": [
        {
          "output_type": "execute_result",
          "data": {
            "text/plain": [
              "{'name': 'Ania', 'age': 11, 'course': 'Python'}"
            ]
          },
          "metadata": {},
          "execution_count": 13
        }
      ]
    },
    {
      "cell_type": "markdown",
      "source": [
        "## **Practice Problem 9: Binary Data Types**"
      ],
      "metadata": {
        "id": "Sjzr_FEl40Pq"
      }
    },
    {
      "cell_type": "markdown",
      "source": [
        "**9a. Bytes**"
      ],
      "metadata": {
        "id": "VAVZvzIX44TQ"
      }
    },
    {
      "cell_type": "code",
      "source": [
        "# Create bytes\n",
        "byte_data = b'Hello'\n",
        "byte_data"
      ],
      "metadata": {
        "id": "xrjsufyp467J",
        "colab": {
          "base_uri": "https://localhost:8080/"
        },
        "outputId": "1cb1c576-9476-4da7-a739-5fbd7a2b3683"
      },
      "execution_count": null,
      "outputs": [
        {
          "output_type": "execute_result",
          "data": {
            "text/plain": [
              "b'Hello'"
            ]
          },
          "metadata": {},
          "execution_count": 9
        }
      ]
    },
    {
      "cell_type": "markdown",
      "source": [
        "**9b. Bytearray**"
      ],
      "metadata": {
        "id": "WRgHJe7j47CX"
      }
    },
    {
      "cell_type": "code",
      "source": [
        "# Create bytearray\n",
        "byte_array = bytearray([10, 20, 30])\n",
        "byte_array"
      ],
      "metadata": {
        "id": "LdBKGmx149_p",
        "colab": {
          "base_uri": "https://localhost:8080/"
        },
        "outputId": "7055031a-ef49-4e62-bc6f-7f09343b1913"
      },
      "execution_count": null,
      "outputs": [
        {
          "output_type": "stream",
          "name": "stdout",
          "text": [
            "bytearray(b'\\n\\x14\\x1e')\n"
          ]
        }
      ]
    },
    {
      "cell_type": "markdown",
      "source": [
        "**9c. Memoryview**"
      ],
      "metadata": {
        "id": "q8eablo94-J2"
      }
    },
    {
      "cell_type": "code",
      "source": [
        "# Create memoryview\n",
        "memory_view = memoryview(byte_array)\n",
        "memory_view"
      ],
      "metadata": {
        "id": "ayIR9qkn5AZ4",
        "colab": {
          "base_uri": "https://localhost:8080/"
        },
        "outputId": "5b09c0c4-b3ce-4a80-b960-c551e32a98c2"
      },
      "execution_count": null,
      "outputs": [
        {
          "output_type": "execute_result",
          "data": {
            "text/plain": [
              "<memory at 0x798eea020700>"
            ]
          },
          "metadata": {},
          "execution_count": 12
        }
      ]
    },
    {
      "cell_type": "markdown",
      "source": [
        "## **Practice Problem 10: None Type**"
      ],
      "metadata": {
        "id": "H7oO3-d-ZBvq"
      }
    },
    {
      "cell_type": "code",
      "source": [
        "# Create None type\n",
        "None"
      ],
      "metadata": {
        "id": "4nvXmlm8ZEh5"
      },
      "execution_count": null,
      "outputs": []
    },
    {
      "cell_type": "code",
      "source": [
        "# check type\n",
        "type(None)"
      ],
      "metadata": {
        "colab": {
          "base_uri": "https://localhost:8080/"
        },
        "id": "_k-zy_dAZFbq",
        "outputId": "aeb7b3c5-97f5-4a74-ac8c-ea7968c15128"
      },
      "execution_count": null,
      "outputs": [
        {
          "output_type": "execute_result",
          "data": {
            "text/plain": [
              "NoneType"
            ]
          },
          "metadata": {},
          "execution_count": 21
        }
      ]
    },
    {
      "cell_type": "markdown",
      "source": [
        "# **🐌Exercise**"
      ],
      "metadata": {
        "id": "urR0OpduRBEZ"
      }
    },
    {
      "cell_type": "markdown",
      "source": [
        "## **Exercise 1: Create Variables of Different Data Types**"
      ],
      "metadata": {
        "id": "IRG7AfcCbMdI"
      }
    },
    {
      "cell_type": "code",
      "source": [
        "# Your answer\n"
      ],
      "metadata": {
        "id": "ge6t4zLrRHRc"
      },
      "execution_count": null,
      "outputs": []
    },
    {
      "cell_type": "markdown",
      "source": [
        "## **Exercise 2: Check the data type of 0, False and \"\"**"
      ],
      "metadata": {
        "id": "4-l3ypdK6iJC"
      }
    },
    {
      "cell_type": "code",
      "source": [
        "# Your answer\n"
      ],
      "metadata": {
        "id": "fWI8vkUS6p-F"
      },
      "execution_count": null,
      "outputs": []
    },
    {
      "cell_type": "markdown",
      "source": [
        "---"
      ],
      "metadata": {
        "id": "wtFxOdTW8OCk"
      }
    },
    {
      "cell_type": "code",
      "source": [],
      "metadata": {
        "id": "1w9EIGooLQ4I"
      },
      "execution_count": null,
      "outputs": []
    }
  ]
}