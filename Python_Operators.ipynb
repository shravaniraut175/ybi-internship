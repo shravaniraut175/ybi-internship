{
  "nbformat": 4,
  "nbformat_minor": 0,
  "metadata": {
    "colab": {
      "provenance": []
    },
    "kernelspec": {
      "name": "python3",
      "display_name": "Python 3"
    },
    "language_info": {
      "name": "python"
    }
  },
  "cells": [
    {
      "cell_type": "markdown",
      "source": [
        "# Python Operators"
      ],
      "metadata": {
        "id": "S1vYPLWRL7BM"
      }
    },
    {
      "cell_type": "markdown",
      "source": [
        "## **📚Arithmetic Operators**"
      ],
      "metadata": {
        "id": "tpiiyvlcHUX7"
      }
    },
    {
      "cell_type": "code",
      "source": [
        "a = 10\n",
        "b = 3\n",
        "print(a + b)  # Output: 13\n",
        "print(a - b)  # Output: 7\n",
        "print(a * b)  # Output: 30\n",
        "print(a / b)  # Output: 3.3333333333333335\n",
        "print(a // b) # Output: 3\n",
        "print(a % b)  # Output: 1\n",
        "print(a ** b) # Output: 1000\n"
      ],
      "metadata": {
        "id": "HQUDnrRl5_uw"
      },
      "execution_count": null,
      "outputs": []
    },
    {
      "cell_type": "markdown",
      "source": [
        "## **📚Assignment Operators**"
      ],
      "metadata": {
        "id": "7S-PZXRcHcje"
      }
    },
    {
      "cell_type": "code",
      "source": [
        "x = 5\n",
        "x += 3  # Equivalent to x = x + 3\n",
        "print(x)  # Output: 8\n",
        "\n",
        "x *= 2  # Equivalent to x = x * 2\n",
        "print(x)  # Output: 16\n",
        "\n",
        "x **= 2  # Equivalent to x = x ** 2\n",
        "print(x)  # Output: 256"
      ],
      "metadata": {
        "id": "uvelfKmb5_ux"
      },
      "execution_count": null,
      "outputs": []
    },
    {
      "cell_type": "markdown",
      "source": [
        "## **📚Comparison Operators**"
      ],
      "metadata": {
        "id": "x8EDw0m_IGDx"
      }
    },
    {
      "cell_type": "code",
      "source": [
        "a = 5\n",
        "b = 3\n",
        "print(a == b)  # Output: False\n",
        "print(a != b)  # Output: True\n",
        "print(a > b)   # Output: True\n",
        "print(a < b)   # Output: False"
      ],
      "metadata": {
        "colab": {
          "base_uri": "https://localhost:8080/"
        },
        "outputId": "bcdf0674-7976-4575-b252-4df639b40db9",
        "id": "Q1f-uYhs5_ux"
      },
      "execution_count": null,
      "outputs": [
        {
          "output_type": "stream",
          "name": "stdout",
          "text": [
            "False\n",
            "True\n",
            "True\n",
            "False\n"
          ]
        }
      ]
    },
    {
      "cell_type": "markdown",
      "source": [
        "## **📚Logical Operators**"
      ],
      "metadata": {
        "id": "qLOrn8EALsSs"
      }
    },
    {
      "cell_type": "code",
      "source": [
        "a = True\n",
        "b = False\n",
        "print(a and b)  # Output: False\n",
        "print(a or b)   # Output: True\n",
        "print(not a)    # Output: False"
      ],
      "metadata": {
        "colab": {
          "base_uri": "https://localhost:8080/"
        },
        "id": "wVKfsOFELvSt",
        "outputId": "744385da-5aeb-4594-c2bc-1ec034967372"
      },
      "execution_count": null,
      "outputs": [
        {
          "output_type": "stream",
          "name": "stdout",
          "text": [
            "False\n",
            "True\n",
            "False\n"
          ]
        }
      ]
    },
    {
      "cell_type": "markdown",
      "source": [
        "## **📚Bitwise Operators**"
      ],
      "metadata": {
        "id": "M5ykmn9RMWQi"
      }
    },
    {
      "cell_type": "code",
      "source": [
        "a = 5  # In binary: 0101\n",
        "b = 3  # In binary: 0011\n",
        "\n",
        "print(a & b)  # Output: 1 (Binary: 0001)\n",
        "print(a | b)  # Output: 7 (Binary: 0111)\n",
        "print(a ^ b)  # Output: 6 (Binary: 0110)\n",
        "print(~a)     # Output: -6 (Binary: ...1010, in two's complement form)\n",
        "print(a << 1) # Output: 10 (Binary: 1010)\n",
        "print(a >> 1) # Output: 2 (Binary: 0010)\n"
      ],
      "metadata": {
        "colab": {
          "base_uri": "https://localhost:8080/"
        },
        "id": "Vlt0BML-McYa",
        "outputId": "ef4acfe8-75e1-4b84-c3c1-a40e9c82d999"
      },
      "execution_count": null,
      "outputs": [
        {
          "output_type": "stream",
          "name": "stdout",
          "text": [
            "1\n",
            "7\n",
            "6\n",
            "-6\n",
            "10\n",
            "2\n"
          ]
        }
      ]
    },
    {
      "cell_type": "markdown",
      "source": [
        "## **📚Membership Operators**"
      ],
      "metadata": {
        "id": "BIehz8pOMm9Z"
      }
    },
    {
      "cell_type": "code",
      "source": [
        "x = 'hello'\n",
        "y = [1, 2, 3, 4]\n",
        "\n",
        "print('h' in x)    # Output: True\n",
        "print(5 not in y)  # Output: True"
      ],
      "metadata": {
        "colab": {
          "base_uri": "https://localhost:8080/"
        },
        "id": "IEu6yinUMpst",
        "outputId": "43ea98ea-4f75-4fd4-98c0-80ae08edcad0"
      },
      "execution_count": null,
      "outputs": [
        {
          "output_type": "stream",
          "name": "stdout",
          "text": [
            "True\n",
            "True\n"
          ]
        }
      ]
    },
    {
      "cell_type": "markdown",
      "source": [
        "## **📚Identity Operators**"
      ],
      "metadata": {
        "id": "6K8EN4p1M1P5"
      }
    },
    {
      "cell_type": "code",
      "source": [
        "x = ['apple', 'banana']\n",
        "y = ['apple', 'banana']\n",
        "z = x\n",
        "\n",
        "print(x is z)       # Output: True\n",
        "print(x is y)       # Output: False\n",
        "print(x == y)       # Output: True\n",
        "print(x is not y)   # Output: True"
      ],
      "metadata": {
        "colab": {
          "base_uri": "https://localhost:8080/"
        },
        "id": "HvOY4GSeM4RQ",
        "outputId": "cf6acaac-12ca-4760-a274-0dbb103dcfd0"
      },
      "execution_count": null,
      "outputs": [
        {
          "output_type": "stream",
          "name": "stdout",
          "text": [
            "True\n",
            "False\n",
            "True\n",
            "True\n"
          ]
        }
      ]
    },
    {
      "cell_type": "markdown",
      "source": [
        "---"
      ],
      "metadata": {
        "id": "wtFxOdTW8OCk"
      }
    }
  ]
}